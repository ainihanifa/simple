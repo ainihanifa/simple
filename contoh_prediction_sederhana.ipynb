{
 "cells": [
  {
   "cell_type": "markdown",
   "metadata": {},
   "source": [
    "# Contoh Prediction Data Random"
   ]
  },
  {
   "cell_type": "code",
   "execution_count": 43,
   "metadata": {},
   "outputs": [
    {
     "name": "stderr",
     "output_type": "stream",
     "text": [
      "C:\\Program Files\\Anaconda3\\lib\\site-packages\\sklearn\\svm\\base.py:196: FutureWarning: The default value of gamma will change from 'auto' to 'scale' in version 0.22 to account better for unscaled features. Set gamma explicitly to 'auto' or 'scale' to avoid this warning.\n",
      "  \"avoid this warning.\", FutureWarning)\n"
     ]
    },
    {
     "data": {
      "image/png": "[encoded data removed]",
      "text/plain": [
       "<matplotlib.figure.Figure at 0x1e3e4887358>"
      ]
     },
     "metadata": {
      "needs_background": "light"
     },
     "output_type": "display_data"
    }
   ],
   "source": [
    "%matplotlib inline\n",
    "import numpy as np\n",
    "import pandas as pd\n",
    "import matplotlib.pyplot as plt\n",
    "from sklearn.svm import SVR\n",
    "\n",
    "dtrain=np.random.uniform(0,0.00100,[100,2])      \n",
    "dtrain[:50,1] = np.array([2.770, 2.690, 2.560, 2.630, 2.730, 2.720, 2.690, 2.680, 2.600, 2.630, \n",
    "                          2.580, 2.615, 2.72,  2.670, 2.690, 2.710, 2.705, 2.660, 2.610, 2.580, \n",
    "                          2.650, 2.600, 2.550, 2.600, 2.630, 2.61,  2.620, 2.660, 2.670, 2.665, \n",
    "                          2.595, 2.625, 2.685, 2.680, 2.650, 2.660, 2.550, 2.540, 2.520, 2.486, \n",
    "                          2.551, 2.551, 2.580, 2.605, 2.525, 2.510, 2.510, 2.480, 2.515, 2.485])\n",
    "dtrain[:,0] = np.arange(1,101)\n",
    "\n",
    "X = dtrain[:50,0]\n",
    "y = dtrain[:50,1]\n",
    "X_test = dtrain[50:99,0]\n",
    "\n",
    "svr_rbf_original = SVR(kernel='rbf', epsilon=0.05) \n",
    "svr_rbf_original.fit(X.reshape(-1,1),y)\n",
    "svr_rbf_twicked = SVR(kernel='rbf', epsilon=0.003, gamma=0.001)\n",
    "svr_rbf_twicked.fit(X.reshape(-1,1),y)\n",
    "\n",
    "plt.plot(X, y,linestyle=\"\",marker=\"o\", label='Raw')  \n",
    "plt.plot(X, svr_rbf_original.predict(X.reshape(-1,1)), label='Within sample fit')\n",
    "plt.plot(X_test, svr_rbf_original.predict(X_test.reshape(-1,1)), label='Fit eps:0.05')\n",
    "plt.plot(X_test, svr_rbf_twicked.predict(X_test.reshape(-1,1)), label='Fit eps:0.003 / gamma:0.001') \n",
    "plt.legend() \n",
    "plt.show()\n"
   ]
  },
  {
   "cell_type": "code",
   "execution_count": 21,
   "metadata": {},
   "outputs": [
    {
     "data": {
      "text/plain": [
       "array([ 1.,  2.,  3.,  4.,  5.,  6.,  7.,  8.,  9., 10., 11., 12., 13.,\n",
       "       14., 15., 16., 17., 18., 19., 20., 21., 22., 23., 24., 25., 26.,\n",
       "       27., 28., 29., 30., 31., 32., 33., 34., 35., 36., 37., 38., 39.,\n",
       "       40., 41., 42., 43., 44., 45., 46., 47., 48., 49., 50.])"
      ]
     },
     "execution_count": 21,
     "metadata": {},
     "output_type": "execute_result"
    }
   ],
   "source": [
    "X"
   ]
  },
  {
   "cell_type": "code",
   "execution_count": 22,
   "metadata": {},
   "outputs": [
    {
     "data": {
      "text/plain": [
       "array([2.77 , 2.69 , 2.56 , 2.63 , 2.73 , 2.72 , 2.69 , 2.68 , 2.6  ,\n",
       "       2.63 , 2.58 , 2.615, 2.72 , 2.67 , 2.69 , 2.71 , 2.705, 2.66 ,\n",
       "       2.61 , 2.58 , 2.65 , 2.6  , 2.55 , 2.6  , 2.63 , 2.61 , 2.62 ,\n",
       "       2.66 , 2.67 , 2.665, 2.595, 2.625, 2.685, 2.68 , 2.65 , 2.66 ,\n",
       "       2.55 , 2.54 , 2.52 , 2.486, 2.551, 2.551, 2.58 , 2.605, 2.525,\n",
       "       2.51 , 2.51 , 2.48 , 2.515, 2.485])"
      ]
     },
     "execution_count": 22,
     "metadata": {},
     "output_type": "execute_result"
    }
   ],
   "source": [
    "y"
   ]
  },
  {
   "cell_type": "markdown",
   "metadata": {},
   "source": [
    "# Contoh Data Lulusan Sederhana"
   ]
  },
  {
   "cell_type": "code",
   "execution_count": 25,
   "metadata": {},
   "outputs": [
    {
     "data": {
      "text/html": [
       "<div>\n",
       "<style scoped>\n",
       "    .dataframe tbody tr th:only-of-type {\n",
       "        vertical-align: middle;\n",
       "    }\n",
       "\n",
       "    .dataframe tbody tr th {\n",
       "        vertical-align: top;\n",
       "    }\n",
       "\n",
       "    .dataframe thead th {\n",
       "        text-align: right;\n",
       "    }\n",
       "</style>\n",
       "<table border=\"1\" class=\"dataframe\">\n",
       "  <thead>\n",
       "    <tr style=\"text-align: right;\">\n",
       "      <th></th>\n",
       "      <th>Tahun Lulus</th>\n",
       "      <th>7smt</th>\n",
       "      <th>8smt</th>\n",
       "      <th>9smt</th>\n",
       "      <th>10smt</th>\n",
       "      <th>11smt</th>\n",
       "      <th>12smt</th>\n",
       "      <th>13smt</th>\n",
       "      <th>14smt</th>\n",
       "      <th>15smt</th>\n",
       "    </tr>\n",
       "  </thead>\n",
       "  <tbody>\n",
       "    <tr>\n",
       "      <th>0</th>\n",
       "      <td>2005</td>\n",
       "      <td>9</td>\n",
       "      <td>24</td>\n",
       "      <td>3</td>\n",
       "      <td>34</td>\n",
       "      <td>16</td>\n",
       "      <td>3</td>\n",
       "      <td>5</td>\n",
       "      <td>32</td>\n",
       "      <td>35</td>\n",
       "    </tr>\n",
       "    <tr>\n",
       "      <th>1</th>\n",
       "      <td>2006</td>\n",
       "      <td>5</td>\n",
       "      <td>8</td>\n",
       "      <td>19</td>\n",
       "      <td>15</td>\n",
       "      <td>29</td>\n",
       "      <td>5</td>\n",
       "      <td>16</td>\n",
       "      <td>24</td>\n",
       "      <td>39</td>\n",
       "    </tr>\n",
       "    <tr>\n",
       "      <th>2</th>\n",
       "      <td>2007</td>\n",
       "      <td>0</td>\n",
       "      <td>37</td>\n",
       "      <td>3</td>\n",
       "      <td>15</td>\n",
       "      <td>37</td>\n",
       "      <td>38</td>\n",
       "      <td>23</td>\n",
       "      <td>29</td>\n",
       "      <td>24</td>\n",
       "    </tr>\n",
       "    <tr>\n",
       "      <th>3</th>\n",
       "      <td>2008</td>\n",
       "      <td>1</td>\n",
       "      <td>38</td>\n",
       "      <td>18</td>\n",
       "      <td>40</td>\n",
       "      <td>6</td>\n",
       "      <td>7</td>\n",
       "      <td>15</td>\n",
       "      <td>19</td>\n",
       "      <td>12</td>\n",
       "    </tr>\n",
       "    <tr>\n",
       "      <th>4</th>\n",
       "      <td>2009</td>\n",
       "      <td>1</td>\n",
       "      <td>16</td>\n",
       "      <td>27</td>\n",
       "      <td>3</td>\n",
       "      <td>34</td>\n",
       "      <td>15</td>\n",
       "      <td>37</td>\n",
       "      <td>16</td>\n",
       "      <td>23</td>\n",
       "    </tr>\n",
       "  </tbody>\n",
       "</table>\n",
       "</div>"
      ],
      "text/plain": [
       "   Tahun Lulus  7smt  8smt  9smt  10smt  11smt  12smt  13smt  14smt  15smt\n",
       "0         2005     9    24     3     34     16      3      5     32     35\n",
       "1         2006     5     8    19     15     29      5     16     24     39\n",
       "2         2007     0    37     3     15     37     38     23     29     24\n",
       "3         2008     1    38    18     40      6      7     15     19     12\n",
       "4         2009     1    16    27      3     34     15     37     16     23"
      ]
     },
     "execution_count": 25,
     "metadata": {},
     "output_type": "execute_result"
    }
   ],
   "source": [
    "import pandas as pd\n",
    "data_lulusan = pd.read_csv('datalulusan.csv', delimiter = ';', encoding = \"ISO-8859-1\")\n",
    "data_lulusan.head()"
   ]
  },
  {
   "cell_type": "code",
   "execution_count": 28,
   "metadata": {},
   "outputs": [
    {
     "data": {
      "text/plain": [
       "Index(['Tahun Lulus', '7smt', '8smt', '9smt', '10smt', '11smt', '12smt',\n",
       "       '13smt', '14smt', '15smt'],\n",
       "      dtype='object')"
      ]
     },
     "execution_count": 28,
     "metadata": {},
     "output_type": "execute_result"
    }
   ],
   "source": [
    "data_lulusan.columns"
   ]
  },
  {
   "cell_type": "code",
   "execution_count": 37,
   "metadata": {},
   "outputs": [],
   "source": [
    "data_train=data_lulusan\n",
    "X=data_train  [['Tahun Lulus']]\n",
    "Y=data_train [['15smt']] #prediksi jumlah mahasiswa yang lulus pada semester ke 15\n",
    "X_train=X.values  [:15]\n",
    "Y_train=Y.values  [:15]\n",
    "X_test = X.values  [16:21]"
   ]
  },
  {
   "cell_type": "code",
   "execution_count": 39,
   "metadata": {},
   "outputs": [
    {
     "data": {
      "text/plain": [
       "array([[2021],\n",
       "       [2022],\n",
       "       [2023],\n",
       "       [2024],\n",
       "       [2025]], dtype=int64)"
      ]
     },
     "execution_count": 39,
     "metadata": {},
     "output_type": "execute_result"
    }
   ],
   "source": [
    "X_test"
   ]
  },
  {
   "cell_type": "code",
   "execution_count": 42,
   "metadata": {},
   "outputs": [
    {
     "name": "stderr",
     "output_type": "stream",
     "text": [
      "C:\\Program Files\\Anaconda3\\lib\\site-packages\\sklearn\\utils\\validation.py:752: DataConversionWarning: A column-vector y was passed when a 1d array was expected. Please change the shape of y to (n_samples, ), for example using ravel().\n",
      "  y = column_or_1d(y, warn=True)\n",
      "C:\\Program Files\\Anaconda3\\lib\\site-packages\\sklearn\\svm\\base.py:196: FutureWarning: The default value of gamma will change from 'auto' to 'scale' in version 0.22 to account better for unscaled features. Set gamma explicitly to 'auto' or 'scale' to avoid this warning.\n",
      "  \"avoid this warning.\", FutureWarning)\n",
      "C:\\Program Files\\Anaconda3\\lib\\site-packages\\sklearn\\utils\\validation.py:752: DataConversionWarning: A column-vector y was passed when a 1d array was expected. Please change the shape of y to (n_samples, ), for example using ravel().\n",
      "  y = column_or_1d(y, warn=True)\n"
     ]
    },
    {
     "data": {
      "image/png": "[encoded data removed]",
      "text/plain": [
       "<matplotlib.figure.Figure at 0x1e3e3900828>"
      ]
     },
     "metadata": {
      "needs_background": "light"
     },
     "output_type": "display_data"
    }
   ],
   "source": [
    "#prediksi menggunakan SVR \n",
    "svr_rbf_original = SVR(kernel='rbf', epsilon=0.05) \n",
    "svr_rbf_original.fit(X_train.reshape(-1,1),Y_train)\n",
    "svr_rbf_twicked = SVR(kernel='rbf', epsilon=0.003, gamma=0.001)\n",
    "svr_rbf_twicked.fit(X_train.reshape(-1,1),Y_train)\n",
    "\n",
    "plt.plot(X_train, Y_train,linestyle=\"\",marker=\"o\", label='Raw')  \n",
    "plt.plot(X_train, svr_rbf_original.predict(X_train.reshape(-1,1)), label='Within sample fit')\n",
    "plt.plot(X_test, svr_rbf_original.predict(X_test.reshape(-1,1)), label='Fit eps:0.05')\n",
    "plt.plot(X_test, svr_rbf_twicked.predict(X_test.reshape(-1,1)), label='Fit eps:0.003 / gamma:0.001') \n",
    "plt.legend() \n",
    "plt.show()"
   ]
  },
  {
   "cell_type": "code",
   "execution_count": null,
   "metadata": {},
   "outputs": [],
   "source": []
  }
 ],
 "metadata": {
  "kernelspec": {
   "display_name": "Python [conda env:Anaconda3]",
   "language": "python",
   "name": "conda-env-Anaconda3-py"
  },
  "language_info": {
   "codemirror_mode": {
    "name": "ipython",
    "version": 3
   },
   "file_extension": ".py",
   "mimetype": "text/x-python",
   "name": "python",
   "nbconvert_exporter": "python",
   "pygments_lexer": "ipython3",
   "version": "3.5.6"
  }
 },
 "nbformat": 4,
 "nbformat_minor": 2
}
